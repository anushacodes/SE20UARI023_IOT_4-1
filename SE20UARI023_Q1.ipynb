{
  "nbformat": 4,
  "nbformat_minor": 0,
  "metadata": {
    "colab": {
      "provenance": []
    },
    "kernelspec": {
      "name": "python3",
      "display_name": "Python 3"
    },
    "language_info": {
      "name": "python"
    }
  },
  "cells": [
    {
      "cell_type": "markdown",
      "source": [
        "Q1: Process Scheduling Analysis"
      ],
      "metadata": {
        "id": "2Pezb5T_jIbP"
      }
    },
    {
      "cell_type": "code",
      "execution_count": null,
      "metadata": {
        "id": "TfGRSXDqjEly"
      },
      "outputs": [],
      "source": [
        "# First Come First Serve (FCFS) Implementation"
      ]
    },
    {
      "cell_type": "code",
      "source": [
        "def fcfs_scheduling(processes):\n",
        "    processes.sort(key=lambda x: x[1])\n",
        "\n",
        "    waiting_time = [0] * len(processes)\n",
        "    turnaround_time = [0] * len(processes)\n",
        "    current_time = 0\n",
        "\n",
        "    for i in range(len(processes)):\n",
        "        process_name, arrival_time, burst_time, priority = processes[i]\n",
        "\n",
        "        waiting_time[i] = max(0, current_time - arrival_time)\n",
        "\n",
        "        turnaround_time[i] = waiting_time[i] + burst_time\n",
        "\n",
        "        current_time += burst_time\n",
        "\n",
        "    total_waiting_time = sum(waiting_time)\n",
        "    total_turnaround_time = sum(turnaround_time)\n",
        "    average_waiting_time = total_waiting_time / len(processes)\n",
        "    average_turnaround_time = total_turnaround_time / len(processes)\n",
        "\n",
        "    print(\"FCFS Preemptive Scheduling:\")\n",
        "    print(\"Process\\tWaiting Time\\tTurnaround Time\")\n",
        "    for i in range(len(processes)):\n",
        "        process_name, arrival_time, burst_time, priority = processes[i]\n",
        "        print(f\"{process_name}\\t{waiting_time[i]}\\t\\t{turnaround_time[i]}\")\n",
        "\n",
        "    print(f\"\\nAverage Waiting Time: {average_waiting_time}\")\n",
        "    print(f\"Average Turnaround Time: {average_turnaround_time}\")\n",
        "\n",
        "if __name__ == \"__main__\":\n",
        "    processes = [\n",
        "        (\"P1\", 0, 24, 3),\n",
        "        (\"P2\", 4, 3, 1),\n",
        "        (\"P3\", 5, 3, 4),\n",
        "        (\"P4\", 6, 12, 2)\n",
        "    ]\n",
        "\n",
        "    fcfs_scheduling(processes)\n"
      ],
      "metadata": {
        "colab": {
          "base_uri": "https://localhost:8080/"
        },
        "id": "pTX8MjXZjVAa",
        "outputId": "c44ef336-b9fd-4607-a80d-c21216d8fcad"
      },
      "execution_count": 1,
      "outputs": [
        {
          "output_type": "stream",
          "name": "stdout",
          "text": [
            "FCFS Preemptive Scheduling:\n",
            "Process\tWaiting Time\tTurnaround Time\n",
            "P1\t0\t\t24\n",
            "P2\t20\t\t23\n",
            "P3\t22\t\t25\n",
            "P4\t24\t\t36\n",
            "\n",
            "Average Waiting Time: 16.5\n",
            "Average Turnaround Time: 27.0\n"
          ]
        }
      ]
    },
    {
      "cell_type": "markdown",
      "source": [
        "Shortest Job First(SJF) scheduling"
      ],
      "metadata": {
        "id": "nlb3xhCMkNhp"
      }
    },
    {
      "cell_type": "code",
      "source": [
        "def preemptive_sjf(processes):\n",
        "    n = len(processes)\n",
        "    remaining_time = [process['burst_time'] for process in processes]\n",
        "    completion_time = [0] * n\n",
        "    current_time = 0\n",
        "    total_completed = 0\n",
        "    wt = [0] * n\n",
        "    tat = [0] * n\n",
        "\n",
        "    while total_completed < n:\n",
        "        min_remaining_time = float('inf')\n",
        "        min_process_index = -1\n",
        "\n",
        "        for i in range(n):\n",
        "            if (\n",
        "                processes[i]['arrival_time'] <= current_time\n",
        "                and remaining_time[i] < min_remaining_time\n",
        "                and remaining_time[i] > 0\n",
        "            ):\n",
        "                min_remaining_time = remaining_time[i]\n",
        "                min_process_index = i\n",
        "\n",
        "        if min_process_index == -1:\n",
        "            current_time += 1\n",
        "            continue\n",
        "\n",
        "        remaining_time[min_process_index] -= 1\n",
        "        current_time += 1\n",
        "\n",
        "        if remaining_time[min_process_index] == 0:\n",
        "            total_completed += 1\n",
        "            completion_time[min_process_index] = current_time\n",
        "            wt[min_process_index] = completion_time[min_process_index] - processes[min_process_index]['burst_time'] - processes[min_process_index]['arrival_time']\n",
        "            tat[min_process_index] = completion_time[min_process_index] - processes[min_process_index]['arrival_time']\n",
        "\n",
        "    avg_waiting_time = sum(wt) / n\n",
        "    avg_turnaround_time = sum(tat) / n\n",
        "\n",
        "    return wt, tat, avg_waiting_time, avg_turnaround_time\n",
        "\n",
        "if __name__ == \"__main__\":\n",
        "    processes = [\n",
        "        {\"name\": \"P1\", \"arrival_time\": 0, \"burst_time\": 24, \"priority\": 3},\n",
        "        {\"name\": \"P2\", \"arrival_time\": 4, \"burst_time\": 3, \"priority\": 1},\n",
        "        {\"name\": \"P3\", \"arrival_time\": 5, \"burst_time\": 3, \"priority\": 4},\n",
        "        {\"name\": \"P4\", \"arrival_time\": 6, \"burst_time\": 12, \"priority\": 2},\n",
        "    ]\n",
        "\n",
        "    wt, tat, avg_waiting_time, avg_turnaround_time = preemptive_sjf(processes)\n",
        "\n",
        "    print(\"Process\\tWaiting Time\\tTurnaround Time\")\n",
        "    for i in range(len(processes)):\n",
        "        print(f\"{processes[i]['name']}\\t{wt[i]}\\t\\t{tat[i]}\")\n",
        "\n",
        "    print(f\"Average Waiting Time: {avg_waiting_time}\")\n",
        "    print(f\"Average Turnaround Time: {avg_turnaround_time}\")"
      ],
      "metadata": {
        "colab": {
          "base_uri": "https://localhost:8080/"
        },
        "id": "xnoT42jXkeAF",
        "outputId": "0a956e55-0db3-432b-ab93-92f689265d71"
      },
      "execution_count": 5,
      "outputs": [
        {
          "output_type": "stream",
          "name": "stdout",
          "text": [
            "Process\tWaiting Time\tTurnaround Time\n",
            "P1\t18\t\t42\n",
            "P2\t0\t\t3\n",
            "P3\t2\t\t5\n",
            "P4\t4\t\t16\n",
            "Average Waiting Time: 6.0\n",
            "Average Turnaround Time: 16.5\n"
          ]
        }
      ]
    },
    {
      "cell_type": "markdown",
      "source": [
        "Priority Scheduling"
      ],
      "metadata": {
        "id": "M0WnS_jyleZU"
      }
    },
    {
      "cell_type": "code",
      "source": [
        "def priority_scheduling(processes):\n",
        "    # Sort processes based on priority (higher value means higher priority)\n",
        "    processes.sort(key=lambda x: x[\"priority\"], reverse=True)\n",
        "\n",
        "    # Initialize variables\n",
        "    waiting_time = [0] * len(processes)\n",
        "    turnaround_time = [0] * len(processes)\n",
        "    current_time = 0\n",
        "\n",
        "    # Calculate waiting time and turnaround time\n",
        "    for i in range(len(processes)):\n",
        "        process_name = processes[i][\"name\"]\n",
        "        arrival_time = processes[i][\"arrival_time\"]\n",
        "        burst_time = processes[i][\"burst_time\"]\n",
        "\n",
        "        # Calculate waiting time for the current process\n",
        "        waiting_time[i] = max(0, current_time - arrival_time)\n",
        "\n",
        "        # Calculate turnaround time for the current process\n",
        "        turnaround_time[i] = waiting_time[i] + burst_time\n",
        "\n",
        "        # Update the current time\n",
        "        current_time += burst_time\n",
        "\n",
        "    # Calculate average waiting time and average turnaround time\n",
        "    total_waiting_time = sum(waiting_time)\n",
        "    total_turnaround_time = sum(turnaround_time)\n",
        "    average_waiting_time = total_waiting_time / len(processes)\n",
        "    average_turnaround_time = total_turnaround_time / len(processes)\n",
        "\n",
        "    # Print the results\n",
        "    print(\"Priority Scheduling:\")\n",
        "    print(\"Process\\tWaiting Time\\tTurnaround Time\")\n",
        "    for i in range(len(processes)):\n",
        "        process_name = processes[i][\"name\"]\n",
        "        print(f\"{process_name}\\t{waiting_time[i]}\\t\\t{turnaround_time[i]}\")\n",
        "\n",
        "    print(f\"\\nAverage Waiting Time: {average_waiting_time}\")\n",
        "    print(f\"Average Turnaround Time: {average_turnaround_time}\")\n",
        "\n",
        "if __name__ == \"__main__\":\n",
        "    processes = [\n",
        "        {\"name\": \"P1\", \"arrival_time\": 0, \"burst_time\": 24, \"priority\": 3},\n",
        "        {\"name\": \"P2\", \"arrival_time\": 4, \"burst_time\": 3, \"priority\": 1},\n",
        "        {\"name\": \"P3\", \"arrival_time\": 5, \"burst_time\": 3, \"priority\": 4},\n",
        "        {\"name\": \"P4\", \"arrival_time\": 6, \"burst_time\": 12, \"priority\": 2}\n",
        "    ]\n",
        "\n",
        "    priority_scheduling(processes)\n"
      ],
      "metadata": {
        "colab": {
          "base_uri": "https://localhost:8080/"
        },
        "id": "7Zby6yyOmIMB",
        "outputId": "2af38623-88f2-4163-f3c3-74a34ce4b650"
      },
      "execution_count": 8,
      "outputs": [
        {
          "output_type": "stream",
          "name": "stdout",
          "text": [
            "Priority Scheduling:\n",
            "Process\tWaiting Time\tTurnaround Time\n",
            "P3\t0\t\t3\n",
            "P1\t3\t\t27\n",
            "P4\t21\t\t33\n",
            "P2\t35\t\t38\n",
            "\n",
            "Average Waiting Time: 14.75\n",
            "Average Turnaround Time: 25.25\n"
          ]
        }
      ]
    },
    {
      "cell_type": "markdown",
      "source": [
        "Round Robin Scheduling (taking time quantum as 4)"
      ],
      "metadata": {
        "id": "mXtZo99ZmLfc"
      }
    },
    {
      "cell_type": "code",
      "source": [
        "from collections import deque\n",
        "\n",
        "def RoundRobin_preemptive(processes, quantum):\n",
        "    n = len(processes)\n",
        "    remaining_time = [process[2] for process in processes]\n",
        "    waiting_time = [0] * n\n",
        "    turnaround_time = [0] * n\n",
        "    time = 0\n",
        "    queue = deque()\n",
        "\n",
        "    while True:\n",
        "        for i in range(n):\n",
        "            if processes[i][1] <= time and remaining_time[i] > 0:\n",
        "                if remaining_time[i] > quantum:\n",
        "                    time += quantum\n",
        "                    remaining_time[i] -= quantum\n",
        "                    queue.append(i)\n",
        "                else:\n",
        "                    time += remaining_time[i]\n",
        "                    waiting_time[i] = time - processes[i][1] - processes[i][2]\n",
        "                    remaining_time[i] = 0\n",
        "                    turnaround_time[i] = waiting_time[i] + processes[i][2]\n",
        "\n",
        "        done = True\n",
        "        for i in range(n):\n",
        "            if remaining_time[i] > 0:\n",
        "                done = False\n",
        "                break\n",
        "\n",
        "        if done:\n",
        "            break\n",
        "\n",
        "        queue.append(queue.popleft())\n",
        "\n",
        "    total_waiting_time = sum(waiting_time)\n",
        "    total_turnaround_time = sum(turnaround_time)\n",
        "    avg_waiting_time = total_waiting_time / n\n",
        "    avg_turnaround_time = total_turnaround_time / n\n",
        "\n",
        "    print(\"Preemptive Round Robin Scheduling:\")\n",
        "    print(\"Process\\tWaiting Time\\tTurnaround Time\")\n",
        "\n",
        "    for i in range(n):\n",
        "        print(f\"{processes[i][0]}\\t{waiting_time[i]}\\t\\t{turnaround_time[i]}\")\n",
        "\n",
        "    print(f\"Average Waiting Time: {avg_waiting_time}\")\n",
        "    print(f\"Average Turnaround Time: {avg_turnaround_time}\")\n",
        "\n",
        "if __name__ == \"__main__\":\n",
        "    processes = [\n",
        "        (\"P1\", 0, 24, 3),\n",
        "        (\"P2\", 4, 3, 1),\n",
        "        (\"P3\", 5, 3, 4),\n",
        "        (\"P4\", 6, 12, 2)\n",
        "    ]\n",
        "    quantum = 4\n",
        "\n",
        "    RoundRobin_preemptive(processes, quantum)"
      ],
      "metadata": {
        "colab": {
          "base_uri": "https://localhost:8080/"
        },
        "id": "49ycr_j6mLpF",
        "outputId": "51d93126-15e8-4c45-fc4d-5356c807c90c"
      },
      "execution_count": 9,
      "outputs": [
        {
          "output_type": "stream",
          "name": "stdout",
          "text": [
            "Preemptive Round Robin Scheduling:\n",
            "Process\tWaiting Time\tTurnaround Time\n",
            "P1\t18\t\t42\n",
            "P2\t0\t\t3\n",
            "P3\t2\t\t5\n",
            "P4\t12\t\t24\n",
            "Average Waiting Time: 8.0\n",
            "Average Turnaround Time: 18.5\n"
          ]
        }
      ]
    }
  ]
}